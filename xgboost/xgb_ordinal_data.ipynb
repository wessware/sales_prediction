{
  "cells": [
    {
      "cell_type": "markdown",
      "metadata": {
        "colab_type": "text",
        "id": "view-in-github"
      },
      "source": [
        "<a href=\"https://colab.research.google.com/github/wessware/Boosting_Algorithms/blob/main/model/xgb_ordinal_data.ipynb\" target=\"_parent\"><img src=\"https://colab.research.google.com/assets/colab-badge.svg\" alt=\"Open In Colab\"/></a>"
      ]
    },
    {
      "cell_type": "code",
      "execution_count": 1,
      "metadata": {
        "id": "kA2JUzaMpU-0"
      },
      "outputs": [],
      "source": [
        "import numpy as np\n",
        "import pandas as pd\n",
        "from sklearn.model_selection import train_test_split\n",
        "from sklearn.metrics import mean_squared_error as mse\n",
        "import xgboost as xgb\n",
        "from sklearn.preprocessing import StandardScaler"
      ]
    },
    {
      "cell_type": "code",
      "execution_count": 2,
      "metadata": {
        "id": "RWGxxb9Vpdjm"
      },
      "outputs": [],
      "source": [
        "df = pd.read_csv('../datasets/sales_data.csv')"
      ]
    },
    {
      "cell_type": "code",
      "execution_count": 3,
      "metadata": {
        "colab": {
          "base_uri": "https://localhost:8080/",
          "height": 505
        },
        "id": "5wkkGqFGp0ul",
        "outputId": "99c16ddf-9032-4d45-9106-8c2b88e47ca3"
      },
      "outputs": [
        {
          "data": {
            "text/html": [
              "<div>\n",
              "<style scoped>\n",
              "    .dataframe tbody tr th:only-of-type {\n",
              "        vertical-align: middle;\n",
              "    }\n",
              "\n",
              "    .dataframe tbody tr th {\n",
              "        vertical-align: top;\n",
              "    }\n",
              "\n",
              "    .dataframe thead th {\n",
              "        text-align: right;\n",
              "    }\n",
              "</style>\n",
              "<table border=\"1\" class=\"dataframe\">\n",
              "  <thead>\n",
              "    <tr style=\"text-align: right;\">\n",
              "      <th></th>\n",
              "      <th>OrderNumber</th>\n",
              "      <th>OrderDate</th>\n",
              "      <th>WarehouseCode</th>\n",
              "      <th>Sales Channel</th>\n",
              "      <th>StoreID</th>\n",
              "      <th>SalesTeamID</th>\n",
              "      <th>CustomerID</th>\n",
              "      <th>ProductID</th>\n",
              "      <th>Order_Quantity</th>\n",
              "      <th>Discount_Applied</th>\n",
              "      <th>Unit_Price</th>\n",
              "      <th>Unit_Cost</th>\n",
              "    </tr>\n",
              "  </thead>\n",
              "  <tbody>\n",
              "    <tr>\n",
              "      <th>0</th>\n",
              "      <td>SO - 000101</td>\n",
              "      <td>5/31/2018</td>\n",
              "      <td>WARE-UHY1004</td>\n",
              "      <td>1</td>\n",
              "      <td>259</td>\n",
              "      <td>6</td>\n",
              "      <td>15</td>\n",
              "      <td>12</td>\n",
              "      <td>5</td>\n",
              "      <td>0.075</td>\n",
              "      <td>1963.1</td>\n",
              "      <td>1001.18</td>\n",
              "    </tr>\n",
              "    <tr>\n",
              "      <th>1</th>\n",
              "      <td>SO - 000102</td>\n",
              "      <td>5/31/2018</td>\n",
              "      <td>WARE-NMK1003</td>\n",
              "      <td>2</td>\n",
              "      <td>196</td>\n",
              "      <td>14</td>\n",
              "      <td>20</td>\n",
              "      <td>27</td>\n",
              "      <td>3</td>\n",
              "      <td>0.075</td>\n",
              "      <td>3939.6</td>\n",
              "      <td>3348.66</td>\n",
              "    </tr>\n",
              "    <tr>\n",
              "      <th>2</th>\n",
              "      <td>SO - 000103</td>\n",
              "      <td>5/31/2018</td>\n",
              "      <td>WARE-UHY1004</td>\n",
              "      <td>3</td>\n",
              "      <td>213</td>\n",
              "      <td>21</td>\n",
              "      <td>16</td>\n",
              "      <td>16</td>\n",
              "      <td>1</td>\n",
              "      <td>0.050</td>\n",
              "      <td>1775.5</td>\n",
              "      <td>781.22</td>\n",
              "    </tr>\n",
              "    <tr>\n",
              "      <th>3</th>\n",
              "      <td>SO - 000104</td>\n",
              "      <td>5/31/2018</td>\n",
              "      <td>WARE-NMK1003</td>\n",
              "      <td>4</td>\n",
              "      <td>107</td>\n",
              "      <td>28</td>\n",
              "      <td>48</td>\n",
              "      <td>23</td>\n",
              "      <td>8</td>\n",
              "      <td>0.075</td>\n",
              "      <td>2324.9</td>\n",
              "      <td>1464.69</td>\n",
              "    </tr>\n",
              "    <tr>\n",
              "      <th>4</th>\n",
              "      <td>SO - 000105</td>\n",
              "      <td>5/31/2018</td>\n",
              "      <td>WARE-NMK1003</td>\n",
              "      <td>3</td>\n",
              "      <td>111</td>\n",
              "      <td>22</td>\n",
              "      <td>49</td>\n",
              "      <td>26</td>\n",
              "      <td>8</td>\n",
              "      <td>0.100</td>\n",
              "      <td>1822.4</td>\n",
              "      <td>1476.14</td>\n",
              "    </tr>\n",
              "    <tr>\n",
              "      <th>...</th>\n",
              "      <td>...</td>\n",
              "      <td>...</td>\n",
              "      <td>...</td>\n",
              "      <td>...</td>\n",
              "      <td>...</td>\n",
              "      <td>...</td>\n",
              "      <td>...</td>\n",
              "      <td>...</td>\n",
              "      <td>...</td>\n",
              "      <td>...</td>\n",
              "      <td>...</td>\n",
              "      <td>...</td>\n",
              "    </tr>\n",
              "    <tr>\n",
              "      <th>7986</th>\n",
              "      <td>SO - 0008087</td>\n",
              "      <td>12/30/2020</td>\n",
              "      <td>WARE-MKL1006</td>\n",
              "      <td>1</td>\n",
              "      <td>339</td>\n",
              "      <td>9</td>\n",
              "      <td>41</td>\n",
              "      <td>29</td>\n",
              "      <td>1</td>\n",
              "      <td>0.075</td>\n",
              "      <td>234.5</td>\n",
              "      <td>121.94</td>\n",
              "    </tr>\n",
              "    <tr>\n",
              "      <th>7987</th>\n",
              "      <td>SO - 0008088</td>\n",
              "      <td>12/30/2020</td>\n",
              "      <td>WARE-NMK1003</td>\n",
              "      <td>2</td>\n",
              "      <td>202</td>\n",
              "      <td>14</td>\n",
              "      <td>29</td>\n",
              "      <td>3</td>\n",
              "      <td>6</td>\n",
              "      <td>0.050</td>\n",
              "      <td>3202.6</td>\n",
              "      <td>1921.56</td>\n",
              "    </tr>\n",
              "    <tr>\n",
              "      <th>7988</th>\n",
              "      <td>SO - 0008089</td>\n",
              "      <td>12/30/2020</td>\n",
              "      <td>WARE-UHY1004</td>\n",
              "      <td>2</td>\n",
              "      <td>241</td>\n",
              "      <td>14</td>\n",
              "      <td>32</td>\n",
              "      <td>35</td>\n",
              "      <td>5</td>\n",
              "      <td>0.200</td>\n",
              "      <td>3825.7</td>\n",
              "      <td>2792.76</td>\n",
              "    </tr>\n",
              "    <tr>\n",
              "      <th>7989</th>\n",
              "      <td>SO - 0008090</td>\n",
              "      <td>12/30/2020</td>\n",
              "      <td>WARE-NMK1003</td>\n",
              "      <td>2</td>\n",
              "      <td>112</td>\n",
              "      <td>20</td>\n",
              "      <td>42</td>\n",
              "      <td>36</td>\n",
              "      <td>8</td>\n",
              "      <td>0.100</td>\n",
              "      <td>1072.0</td>\n",
              "      <td>804.00</td>\n",
              "    </tr>\n",
              "    <tr>\n",
              "      <th>7990</th>\n",
              "      <td>SO - 0008091</td>\n",
              "      <td>12/30/2020</td>\n",
              "      <td>WARE-UHY1004</td>\n",
              "      <td>1</td>\n",
              "      <td>237</td>\n",
              "      <td>6</td>\n",
              "      <td>41</td>\n",
              "      <td>43</td>\n",
              "      <td>5</td>\n",
              "      <td>0.075</td>\n",
              "      <td>2211.0</td>\n",
              "      <td>1370.82</td>\n",
              "    </tr>\n",
              "  </tbody>\n",
              "</table>\n",
              "<p>7991 rows × 12 columns</p>\n",
              "</div>"
            ],
            "text/plain": [
              "       OrderNumber   OrderDate WarehouseCode  Sales Channel  StoreID  \\\n",
              "0      SO - 000101   5/31/2018  WARE-UHY1004              1      259   \n",
              "1      SO - 000102   5/31/2018  WARE-NMK1003              2      196   \n",
              "2      SO - 000103   5/31/2018  WARE-UHY1004              3      213   \n",
              "3      SO - 000104   5/31/2018  WARE-NMK1003              4      107   \n",
              "4      SO - 000105   5/31/2018  WARE-NMK1003              3      111   \n",
              "...            ...         ...           ...            ...      ...   \n",
              "7986  SO - 0008087  12/30/2020  WARE-MKL1006              1      339   \n",
              "7987  SO - 0008088  12/30/2020  WARE-NMK1003              2      202   \n",
              "7988  SO - 0008089  12/30/2020  WARE-UHY1004              2      241   \n",
              "7989  SO - 0008090  12/30/2020  WARE-NMK1003              2      112   \n",
              "7990  SO - 0008091  12/30/2020  WARE-UHY1004              1      237   \n",
              "\n",
              "      SalesTeamID  CustomerID  ProductID  Order_Quantity  Discount_Applied  \\\n",
              "0               6          15         12               5             0.075   \n",
              "1              14          20         27               3             0.075   \n",
              "2              21          16         16               1             0.050   \n",
              "3              28          48         23               8             0.075   \n",
              "4              22          49         26               8             0.100   \n",
              "...           ...         ...        ...             ...               ...   \n",
              "7986            9          41         29               1             0.075   \n",
              "7987           14          29          3               6             0.050   \n",
              "7988           14          32         35               5             0.200   \n",
              "7989           20          42         36               8             0.100   \n",
              "7990            6          41         43               5             0.075   \n",
              "\n",
              "      Unit_Price  Unit_Cost  \n",
              "0         1963.1    1001.18  \n",
              "1         3939.6    3348.66  \n",
              "2         1775.5     781.22  \n",
              "3         2324.9    1464.69  \n",
              "4         1822.4    1476.14  \n",
              "...          ...        ...  \n",
              "7986       234.5     121.94  \n",
              "7987      3202.6    1921.56  \n",
              "7988      3825.7    2792.76  \n",
              "7989      1072.0     804.00  \n",
              "7990      2211.0    1370.82  \n",
              "\n",
              "[7991 rows x 12 columns]"
            ]
          },
          "execution_count": 3,
          "metadata": {},
          "output_type": "execute_result"
        }
      ],
      "source": [
        "df"
      ]
    },
    {
      "cell_type": "code",
      "execution_count": 4,
      "metadata": {},
      "outputs": [
        {
          "name": "stdout",
          "output_type": "stream",
          "text": [
            "<class 'pandas.core.frame.DataFrame'>\n",
            "RangeIndex: 7991 entries, 0 to 7990\n",
            "Data columns (total 12 columns):\n",
            " #   Column            Non-Null Count  Dtype  \n",
            "---  ------            --------------  -----  \n",
            " 0   OrderNumber       7991 non-null   object \n",
            " 1   OrderDate         7991 non-null   object \n",
            " 2   WarehouseCode     7991 non-null   object \n",
            " 3   Sales Channel     7991 non-null   int64  \n",
            " 4   StoreID           7991 non-null   int64  \n",
            " 5   SalesTeamID       7991 non-null   int64  \n",
            " 6   CustomerID        7991 non-null   int64  \n",
            " 7   ProductID         7991 non-null   int64  \n",
            " 8   Order_Quantity    7991 non-null   int64  \n",
            " 9   Discount_Applied  7991 non-null   float64\n",
            " 10  Unit_Price        7991 non-null   float64\n",
            " 11  Unit_Cost         7991 non-null   float64\n",
            "dtypes: float64(3), int64(6), object(3)\n",
            "memory usage: 749.3+ KB\n"
          ]
        }
      ],
      "source": [
        "df.info()"
      ]
    },
    {
      "cell_type": "code",
      "execution_count": 5,
      "metadata": {},
      "outputs": [
        {
          "data": {
            "text/html": [
              "<div>\n",
              "<style scoped>\n",
              "    .dataframe tbody tr th:only-of-type {\n",
              "        vertical-align: middle;\n",
              "    }\n",
              "\n",
              "    .dataframe tbody tr th {\n",
              "        vertical-align: top;\n",
              "    }\n",
              "\n",
              "    .dataframe thead th {\n",
              "        text-align: right;\n",
              "    }\n",
              "</style>\n",
              "<table border=\"1\" class=\"dataframe\">\n",
              "  <thead>\n",
              "    <tr style=\"text-align: right;\">\n",
              "      <th></th>\n",
              "      <th>count</th>\n",
              "      <th>mean</th>\n",
              "      <th>std</th>\n",
              "      <th>min</th>\n",
              "      <th>25%</th>\n",
              "      <th>50%</th>\n",
              "      <th>75%</th>\n",
              "      <th>max</th>\n",
              "    </tr>\n",
              "  </thead>\n",
              "  <tbody>\n",
              "    <tr>\n",
              "      <th>Sales Channel</th>\n",
              "      <td>7991.0</td>\n",
              "      <td>1.982856</td>\n",
              "      <td>1.015687</td>\n",
              "      <td>1.00</td>\n",
              "      <td>1.00</td>\n",
              "      <td>2.000</td>\n",
              "      <td>3.00</td>\n",
              "      <td>4.00</td>\n",
              "    </tr>\n",
              "    <tr>\n",
              "      <th>StoreID</th>\n",
              "      <td>7991.0</td>\n",
              "      <td>183.850081</td>\n",
              "      <td>105.903946</td>\n",
              "      <td>1.00</td>\n",
              "      <td>91.00</td>\n",
              "      <td>183.000</td>\n",
              "      <td>276.00</td>\n",
              "      <td>367.00</td>\n",
              "    </tr>\n",
              "    <tr>\n",
              "      <th>SalesTeamID</th>\n",
              "      <td>7991.0</td>\n",
              "      <td>14.384307</td>\n",
              "      <td>7.986086</td>\n",
              "      <td>1.00</td>\n",
              "      <td>8.00</td>\n",
              "      <td>14.000</td>\n",
              "      <td>21.00</td>\n",
              "      <td>28.00</td>\n",
              "    </tr>\n",
              "    <tr>\n",
              "      <th>CustomerID</th>\n",
              "      <td>7991.0</td>\n",
              "      <td>25.457014</td>\n",
              "      <td>14.414883</td>\n",
              "      <td>1.00</td>\n",
              "      <td>13.00</td>\n",
              "      <td>25.000</td>\n",
              "      <td>38.00</td>\n",
              "      <td>50.00</td>\n",
              "    </tr>\n",
              "    <tr>\n",
              "      <th>ProductID</th>\n",
              "      <td>7991.0</td>\n",
              "      <td>23.771743</td>\n",
              "      <td>13.526545</td>\n",
              "      <td>1.00</td>\n",
              "      <td>12.00</td>\n",
              "      <td>24.000</td>\n",
              "      <td>36.00</td>\n",
              "      <td>47.00</td>\n",
              "    </tr>\n",
              "    <tr>\n",
              "      <th>Order_Quantity</th>\n",
              "      <td>7991.0</td>\n",
              "      <td>4.525341</td>\n",
              "      <td>2.312631</td>\n",
              "      <td>1.00</td>\n",
              "      <td>3.00</td>\n",
              "      <td>5.000</td>\n",
              "      <td>7.00</td>\n",
              "      <td>8.00</td>\n",
              "    </tr>\n",
              "    <tr>\n",
              "      <th>Discount_Applied</th>\n",
              "      <td>7991.0</td>\n",
              "      <td>0.114394</td>\n",
              "      <td>0.085570</td>\n",
              "      <td>0.05</td>\n",
              "      <td>0.05</td>\n",
              "      <td>0.075</td>\n",
              "      <td>0.15</td>\n",
              "      <td>0.40</td>\n",
              "    </tr>\n",
              "    <tr>\n",
              "      <th>Unit_Price</th>\n",
              "      <td>7991.0</td>\n",
              "      <td>2284.536504</td>\n",
              "      <td>1673.096364</td>\n",
              "      <td>167.50</td>\n",
              "      <td>1031.80</td>\n",
              "      <td>1849.200</td>\n",
              "      <td>3611.30</td>\n",
              "      <td>6566.00</td>\n",
              "    </tr>\n",
              "    <tr>\n",
              "      <th>Unit_Cost</th>\n",
              "      <td>7991.0</td>\n",
              "      <td>1431.911513</td>\n",
              "      <td>1112.413063</td>\n",
              "      <td>68.68</td>\n",
              "      <td>606.12</td>\n",
              "      <td>1080.580</td>\n",
              "      <td>2040.25</td>\n",
              "      <td>5498.56</td>\n",
              "    </tr>\n",
              "  </tbody>\n",
              "</table>\n",
              "</div>"
            ],
            "text/plain": [
              "                   count         mean          std     min      25%       50%  \\\n",
              "Sales Channel     7991.0     1.982856     1.015687    1.00     1.00     2.000   \n",
              "StoreID           7991.0   183.850081   105.903946    1.00    91.00   183.000   \n",
              "SalesTeamID       7991.0    14.384307     7.986086    1.00     8.00    14.000   \n",
              "CustomerID        7991.0    25.457014    14.414883    1.00    13.00    25.000   \n",
              "ProductID         7991.0    23.771743    13.526545    1.00    12.00    24.000   \n",
              "Order_Quantity    7991.0     4.525341     2.312631    1.00     3.00     5.000   \n",
              "Discount_Applied  7991.0     0.114394     0.085570    0.05     0.05     0.075   \n",
              "Unit_Price        7991.0  2284.536504  1673.096364  167.50  1031.80  1849.200   \n",
              "Unit_Cost         7991.0  1431.911513  1112.413063   68.68   606.12  1080.580   \n",
              "\n",
              "                      75%      max  \n",
              "Sales Channel        3.00     4.00  \n",
              "StoreID            276.00   367.00  \n",
              "SalesTeamID         21.00    28.00  \n",
              "CustomerID          38.00    50.00  \n",
              "ProductID           36.00    47.00  \n",
              "Order_Quantity       7.00     8.00  \n",
              "Discount_Applied     0.15     0.40  \n",
              "Unit_Price        3611.30  6566.00  \n",
              "Unit_Cost         2040.25  5498.56  "
            ]
          },
          "execution_count": 5,
          "metadata": {},
          "output_type": "execute_result"
        }
      ],
      "source": [
        "df.describe().T"
      ]
    },
    {
      "cell_type": "code",
      "execution_count": 6,
      "metadata": {},
      "outputs": [
        {
          "data": {
            "text/plain": [
              "False"
            ]
          },
          "execution_count": 6,
          "metadata": {},
          "output_type": "execute_result"
        }
      ],
      "source": [
        "df.isnull().values.any()"
      ]
    },
    {
      "cell_type": "code",
      "execution_count": 7,
      "metadata": {},
      "outputs": [
        {
          "data": {
            "text/plain": [
              "Index(['OrderNumber', 'OrderDate', 'WarehouseCode', 'Sales Channel', 'StoreID',\n",
              "       'SalesTeamID', 'CustomerID', 'ProductID', 'Order_Quantity',\n",
              "       'Discount_Applied', 'Unit_Price', 'Unit_Cost'],\n",
              "      dtype='object')"
            ]
          },
          "execution_count": 7,
          "metadata": {},
          "output_type": "execute_result"
        }
      ],
      "source": [
        "df.columns"
      ]
    },
    {
      "cell_type": "code",
      "execution_count": null,
      "metadata": {},
      "outputs": [],
      "source": []
    },
    {
      "cell_type": "code",
      "execution_count": 17,
      "metadata": {
        "id": "QXpl_xj7p15b"
      },
      "outputs": [],
      "source": [
        "train_cols = ['Sales Channel', 'StoreID',\n",
        "       'SalesTeamID', 'CustomerID', 'ProductID',\n",
        "       'Discount_Applied', 'Unit_Price', 'Unit_Cost']\n",
        "#'SalesTeamID', 'CustomerID', 'ProductID'\n",
        "train_cols_few = ['Sales Channel', 'StoreID',\n",
        "       'Discount_Applied', 'Unit_Price', 'Unit_Cost']\n",
        "\n",
        "x = df[train_cols_few]\n",
        "y = df['Order_Quantity']"
      ]
    },
    {
      "cell_type": "code",
      "execution_count": 18,
      "metadata": {
        "colab": {
          "base_uri": "https://localhost:8080/",
          "height": 505
        },
        "id": "2FEP39uQqGdI",
        "outputId": "9c4aafea-e890-4fd8-f7ea-19e4c5c6cafe"
      },
      "outputs": [
        {
          "data": {
            "text/html": [
              "<div>\n",
              "<style scoped>\n",
              "    .dataframe tbody tr th:only-of-type {\n",
              "        vertical-align: middle;\n",
              "    }\n",
              "\n",
              "    .dataframe tbody tr th {\n",
              "        vertical-align: top;\n",
              "    }\n",
              "\n",
              "    .dataframe thead th {\n",
              "        text-align: right;\n",
              "    }\n",
              "</style>\n",
              "<table border=\"1\" class=\"dataframe\">\n",
              "  <thead>\n",
              "    <tr style=\"text-align: right;\">\n",
              "      <th></th>\n",
              "      <th>Sales Channel</th>\n",
              "      <th>StoreID</th>\n",
              "      <th>Discount_Applied</th>\n",
              "      <th>Unit_Price</th>\n",
              "      <th>Unit_Cost</th>\n",
              "    </tr>\n",
              "  </thead>\n",
              "  <tbody>\n",
              "    <tr>\n",
              "      <th>0</th>\n",
              "      <td>1</td>\n",
              "      <td>259</td>\n",
              "      <td>0.075</td>\n",
              "      <td>1963.1</td>\n",
              "      <td>1001.18</td>\n",
              "    </tr>\n",
              "    <tr>\n",
              "      <th>1</th>\n",
              "      <td>2</td>\n",
              "      <td>196</td>\n",
              "      <td>0.075</td>\n",
              "      <td>3939.6</td>\n",
              "      <td>3348.66</td>\n",
              "    </tr>\n",
              "    <tr>\n",
              "      <th>2</th>\n",
              "      <td>3</td>\n",
              "      <td>213</td>\n",
              "      <td>0.050</td>\n",
              "      <td>1775.5</td>\n",
              "      <td>781.22</td>\n",
              "    </tr>\n",
              "    <tr>\n",
              "      <th>3</th>\n",
              "      <td>4</td>\n",
              "      <td>107</td>\n",
              "      <td>0.075</td>\n",
              "      <td>2324.9</td>\n",
              "      <td>1464.69</td>\n",
              "    </tr>\n",
              "    <tr>\n",
              "      <th>4</th>\n",
              "      <td>3</td>\n",
              "      <td>111</td>\n",
              "      <td>0.100</td>\n",
              "      <td>1822.4</td>\n",
              "      <td>1476.14</td>\n",
              "    </tr>\n",
              "  </tbody>\n",
              "</table>\n",
              "</div>"
            ],
            "text/plain": [
              "   Sales Channel  StoreID  Discount_Applied  Unit_Price  Unit_Cost\n",
              "0              1      259             0.075      1963.1    1001.18\n",
              "1              2      196             0.075      3939.6    3348.66\n",
              "2              3      213             0.050      1775.5     781.22\n",
              "3              4      107             0.075      2324.9    1464.69\n",
              "4              3      111             0.100      1822.4    1476.14"
            ]
          },
          "execution_count": 18,
          "metadata": {},
          "output_type": "execute_result"
        }
      ],
      "source": [
        "x.head()"
      ]
    },
    {
      "cell_type": "code",
      "execution_count": 19,
      "metadata": {
        "colab": {
          "base_uri": "https://localhost:8080/"
        },
        "id": "aKyUltwRqLfa",
        "outputId": "f4c76cb1-236b-4e6c-e4ae-aa1257ebef58"
      },
      "outputs": [
        {
          "data": {
            "text/plain": [
              "0    5\n",
              "1    3\n",
              "2    1\n",
              "3    8\n",
              "4    8\n",
              "Name: Order_Quantity, dtype: int64"
            ]
          },
          "execution_count": 19,
          "metadata": {},
          "output_type": "execute_result"
        }
      ],
      "source": [
        "y.head()"
      ]
    },
    {
      "cell_type": "code",
      "execution_count": 20,
      "metadata": {
        "id": "FlEL3GvYqMsd"
      },
      "outputs": [],
      "source": [
        "x_train, x_test, y_train, y_test = train_test_split(x, y, test_size=0.3, random_state=30)\n"
      ]
    },
    {
      "cell_type": "code",
      "execution_count": 21,
      "metadata": {
        "id": "r4M9grXwqaK_"
      },
      "outputs": [],
      "source": [
        "xgb_mdl = xgb.XGBRegressor()\n",
        "    \n",
        "    #colsample_bytree=0.8,\n",
        "   \n",
        "    #scale_pos_weight=1,\n",
        "    #max_depth=3, \n",
        "    #n_estimators=400,\n",
        "    #objective='binary:logistic',\n",
        "    #booster='gbtree', \n",
        "    #n_jobs=-1,\n",
        "    #random_state=0,\n",
        "    #num_class=2,\n",
        "    #learning_rate=0.1,\n",
        "    #use_label_encoder=False"
      ]
    },
    {
      "cell_type": "code",
      "execution_count": 22,
      "metadata": {
        "colab": {
          "base_uri": "https://localhost:8080/"
        },
        "id": "MokfUY7pqgwX",
        "outputId": "623d3e11-005d-4aa8-d428-5e70223e7617"
      },
      "outputs": [
        {
          "data": {
            "text/plain": [
              "XGBRegressor(base_score=0.5, booster='gbtree', colsample_bylevel=1,\n",
              "             colsample_bynode=1, colsample_bytree=1, gamma=0, gpu_id=-1,\n",
              "             importance_type='gain', interaction_constraints='',\n",
              "             learning_rate=0.300000012, max_delta_step=0, max_depth=6,\n",
              "             min_child_weight=1, missing=nan, monotone_constraints='()',\n",
              "             n_estimators=100, n_jobs=4, num_parallel_tree=1, random_state=0,\n",
              "             reg_alpha=0, reg_lambda=1, scale_pos_weight=1, subsample=1,\n",
              "             tree_method='exact', validate_parameters=1, verbosity=None)"
            ]
          },
          "execution_count": 22,
          "metadata": {},
          "output_type": "execute_result"
        }
      ],
      "source": [
        "xgb_mdl.fit(x_train, y_train)"
      ]
    },
    {
      "cell_type": "code",
      "execution_count": 23,
      "metadata": {
        "id": "5-tnDouaqpQc"
      },
      "outputs": [],
      "source": [
        "predicted = xgb_mdl.predict(x_test)"
      ]
    },
    {
      "cell_type": "code",
      "execution_count": 24,
      "metadata": {
        "id": "Q-hsa7SJqx0T"
      },
      "outputs": [],
      "source": [
        "rmse = np.sqrt(mse(y_test, predicted))"
      ]
    },
    {
      "cell_type": "code",
      "execution_count": 25,
      "metadata": {
        "colab": {
          "base_uri": "https://localhost:8080/"
        },
        "id": "M8lmKib1q_We",
        "outputId": "d3d10fdd-ced8-49b9-f86f-ca87011f1f6e"
      },
      "outputs": [
        {
          "data": {
            "text/plain": [
              "2.4493963645573262"
            ]
          },
          "execution_count": 25,
          "metadata": {},
          "output_type": "execute_result"
        }
      ],
      "source": [
        "rmse"
      ]
    }
  ],
  "metadata": {
    "colab": {
      "authorship_tag": "ABX9TyNlG2JGO3E2mtq1CyC5Fi93",
      "collapsed_sections": [],
      "include_colab_link": true,
      "name": "xgb_ordinal_data.ipynb",
      "provenance": []
    },
    "kernelspec": {
      "display_name": "Python 3.9.10 64-bit",
      "language": "python",
      "name": "python3"
    },
    "language_info": {
      "codemirror_mode": {
        "name": "ipython",
        "version": 3
      },
      "file_extension": ".py",
      "mimetype": "text/x-python",
      "name": "python",
      "nbconvert_exporter": "python",
      "pygments_lexer": "ipython3",
      "version": "3.9.10"
    },
    "vscode": {
      "interpreter": {
        "hash": "153b441b79b186a170e66d39f3ac68da9dc112e187bf195c7a204943ec397faa"
      }
    }
  },
  "nbformat": 4,
  "nbformat_minor": 0
}
